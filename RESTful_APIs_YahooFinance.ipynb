{
 "cells": [
  {
   "cell_type": "code",
   "execution_count": null,
   "id": "1328acfa-2ad0-4330-bcee-17dc85eb2881",
   "metadata": {},
   "outputs": [],
   "source": [
    "#basic RESTful API and flask app integration with yahoo finance to pull stock data"
   ]
  },
  {
   "cell_type": "code",
   "execution_count": null,
   "id": "617f5aa7-5d28-43c1-8f6e-740910cec7c2",
   "metadata": {},
   "outputs": [],
   "source": [
    "!pip install requests\n",
    "!pip install flask\n"
   ]
  },
  {
   "cell_type": "code",
   "execution_count": null,
   "id": "990422fa-d49a-47a9-9147-626cbd45dec9",
   "metadata": {},
   "outputs": [],
   "source": [
    "import requests\n",
    "from flask import Flask, jsonify, request\n",
    "\n",
    "app = Flask(__name__)\n",
    "\n",
    "@app.route('/stocks/<symbol>', methods=['GET'])\n",
    "def get_stock_prices(symbol):\n",
    "    start_date = request.args.get('start_date')\n",
    "    end_date = request.args.get('end_date')\n",
    "    interval = request.args.get('interval', '1d')\n",
    "    url = f'https://query1.finance.yahoo.com/v7/finance/chart/{symbol}?period1={start_date}&period2={end_date}&interval={interval}'\n",
    "\n",
    "    response = requests.get(url)\n",
    "    if response.status_code != 200:\n",
    "        return jsonify({'error': 'Invalid symbol or date range'}), 404\n",
    "    data = response.json()\n",
    "    result = {\n",
    "        'symbol': symbol,\n",
    "        'prices': []\n",
    "    }\n",
    "    for i in range(len(data['chart']['result'][0]['timestamp'])):\n",
    "        result['prices'].append({\n",
    "            'date': data['chart']['result'][0]['timestamp'][i],\n",
    "            'open': data['chart']['result'][0]['indicators']['quote'][0]['open'][i],\n",
    "            'high': data['chart']['result'][0]['indicators']['quote'][0]['high'][i],\n",
    "            'low': data['chart']['result'][0]['indicators']['quote'][0]['low'][i],\n",
    "            'close': data['chart']['result'][0]['indicators']['quote'][0]['close'][i],\n",
    "            'volume': data['chart']['result'][0]['indicators']['quote'][0]['volume'][i]\n",
    "        })\n",
    "    return jsonify(result)\n",
    "\n",
    "if __name__ == '__main__':\n",
    "    app.run()\n"
   ]
  },
  {
   "cell_type": "code",
   "execution_count": null,
   "id": "23d0646e-834a-4cc7-9b9c-3e5ebf9728c1",
   "metadata": {},
   "outputs": [],
   "source": [
    "#expected out example\n",
    "\n",
    "'''\n",
    "\n",
    "{\n",
    "    \"symbol\": \"AAPL\",\n",
    "    \"prices\": [\n",
    "        {\n",
    "            \"date\": 1514869200,\n",
    "            \"open\": 43.064999,\n",
    "            \"high\": 44.0625,\n",
    "            \"low\": 43.057499,\n",
    "            \"close\": 43.064999,\n",
    "            \"volume\": 136811200\n",
    "        },\n",
    "        {\n",
    "            \"date\": 1515474000,\n",
    "            \"open\": 43.637501,\n",
    "            \"high\": 44.075001,\n",
    "            \"low\": 43.587502,\n",
    "            \"close\": 44.052502,\n",
    "            \"volume\": 166096800\n",
    "        },\n",
    "        ...\n",
    "    ]\n",
    "}\n",
    "\n",
    "'''"
   ]
  },
  {
   "cell_type": "code",
   "execution_count": null,
   "id": "a066a09c-bdc6-4b92-b24d-44dd970c9fd1",
   "metadata": {},
   "outputs": [],
   "source": [
    "#an extra simple example"
   ]
  },
  {
   "cell_type": "code",
   "execution_count": null,
   "id": "eeae30e4-bb1a-41ff-b92c-2684f26b3c85",
   "metadata": {},
   "outputs": [],
   "source": [
    "import requests\n",
    "from flask import Flask, jsonify, request\n",
    "\n",
    "app = Flask(__name__)\n",
    "\n",
    "@app.route('/stocks/<symbol>', methods=['GET'])\n",
    "def get_stock_quote(symbol):\n",
    "    response = requests.get(f'https://finance.yahoo.com/quote/{symbol}')\n",
    "    if response.status_code != 200:\n",
    "        return jsonify({'error': 'Invalid symbol'}), 404\n",
    "    data = response.text\n",
    "    quote_start = data.find('\"currentPrice\":') + len('\"currentPrice\":')\n",
    "    quote_end = data.find(',', quote_start)\n",
    "    quote = float(data[quote_start:quote_end])\n",
    "    return jsonify({'symbol': symbol, 'quote': quote})\n",
    "\n",
    "if __name__ == '__main__':\n",
    "    app.run()\n"
   ]
  }
 ],
 "metadata": {
  "kernelspec": {
   "display_name": "Python 3 (ipykernel)",
   "language": "python",
   "name": "python3"
  },
  "language_info": {
   "codemirror_mode": {
    "name": "ipython",
    "version": 3
   },
   "file_extension": ".py",
   "mimetype": "text/x-python",
   "name": "python",
   "nbconvert_exporter": "python",
   "pygments_lexer": "ipython3",
   "version": "3.10.8"
  }
 },
 "nbformat": 4,
 "nbformat_minor": 5
}
